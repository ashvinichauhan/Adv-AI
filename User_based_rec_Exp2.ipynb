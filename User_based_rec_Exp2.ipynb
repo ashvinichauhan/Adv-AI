{
  "nbformat": 4,
  "nbformat_minor": 0,
  "metadata": {
    "colab": {
      "provenance": []
    },
    "kernelspec": {
      "name": "python3",
      "display_name": "Python 3"
    },
    "language_info": {
      "name": "python"
    }
  },
  "cells": [
    {
      "cell_type": "code",
      "execution_count": null,
      "metadata": {
        "colab": {
          "base_uri": "https://localhost:8080/"
        },
        "id": "1PFENQvPVYxo",
        "outputId": "322316c4-29e1-4080-c34e-cf0ee6b8a8ae"
      },
      "outputs": [
        {
          "output_type": "stream",
          "name": "stdout",
          "text": [
            "User-Item Interaction Matrix:\n",
            "[[5 3 0 1 0]\n",
            " [4 0 0 1 0]\n",
            " [0 2 5 0 0]\n",
            " [0 0 0 4 5]\n",
            " [1 1 0 5 4]]\n"
          ]
        }
      ],
      "source": [
        "import numpy as np\n",
        "\n",
        "# Define the user-item interaction data\n",
        "data = [\n",
        "    [5, 3, 0, 1, 0],\n",
        "    [4, 0, 0, 1, 0],\n",
        "    [0, 2, 5, 0, 0],\n",
        "    [0, 0, 0, 4, 5],\n",
        "    [1, 1, 0, 5, 4]\n",
        "]\n",
        "\n",
        "# Create the user-item interaction matrix\n",
        "user_item_matrix = np.array(data)\n",
        "print(\"User-Item Interaction Matrix:\")\n",
        "print(user_item_matrix)"
      ]
    },
    {
      "cell_type": "code",
      "source": [
        "from sklearn.metrics.pairwise import cosine_similarity\n",
        "\n",
        "# Calculate cosine similarity between users\n",
        "user_similarity = cosine_similarity(user_item_matrix)\n",
        "print(\"User Similarity Matrix:\")\n",
        "print(user_similarity)\n"
      ],
      "metadata": {
        "colab": {
          "base_uri": "https://localhost:8080/"
        },
        "id": "m5PPq4W5VkJx",
        "outputId": "8750f8d2-c4b4-4cde-d484-dc378f9901d0"
      },
      "execution_count": null,
      "outputs": [
        {
          "output_type": "stream",
          "name": "stdout",
          "text": [
            "User Similarity Matrix:\n",
            "[[1.         0.86091606 0.18832945 0.10559274 0.33510052]\n",
            " [0.86091606 1.         0.         0.1515108  0.33287702]\n",
            " [0.18832945 0.         1.         0.         0.05663655]\n",
            " [0.10559274 0.1515108  0.         1.         0.95265102]\n",
            " [0.33510052 0.33287702 0.05663655 0.95265102 1.        ]]\n"
          ]
        }
      ]
    },
    {
      "cell_type": "code",
      "source": [
        "def recommend_items(user_index, user_item_matrix, user_similarity):\n",
        "    # Get the user's ratings\n",
        "    user_ratings = user_item_matrix[user_index]\n",
        "\n",
        "    # Calculate weighted scores for each item based on similarity and ratings\n",
        "    scores = user_similarity[user_index].dot(user_item_matrix) / np.array([np.abs(user_similarity[user_index]).sum()])\n",
        "\n",
        "    # Filter out already rated items\n",
        "    scores[user_ratings > 0] = -np.inf\n",
        "\n",
        "    # Recommend top N items\n",
        "    recommended_indices = np.argsort(scores)[::-1][:3] # Top N recommendations\n",
        "    return recommended_indices\n",
        "\n",
        "# Example usage: Recommend items for User Index = 0 (User 1)\n",
        "recommended_items = recommend_items(0, user_item_matrix, user_similarity)\n",
        "print(\"Recommended Items for User Index = 0:\", recommended_items)\n"
      ],
      "metadata": {
        "colab": {
          "base_uri": "https://localhost:8080/"
        },
        "id": "H6Gl45NcVmNo",
        "outputId": "0144e987-bff8-4d47-92a3-ac970c4cf1d9"
      },
      "execution_count": null,
      "outputs": [
        {
          "output_type": "stream",
          "name": "stdout",
          "text": [
            "Recommended Items for User Index = 0: [4 2 3]\n"
          ]
        }
      ]
    }
  ]
}