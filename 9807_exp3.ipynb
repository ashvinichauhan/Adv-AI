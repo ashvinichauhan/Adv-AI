{
  "nbformat": 4,
  "nbformat_minor": 0,
  "metadata": {
    "colab": {
      "provenance": []
    },
    "kernelspec": {
      "name": "python3",
      "display_name": "Python 3"
    },
    "language_info": {
      "name": "python"
    }
  },
  "cells": [
    {
      "cell_type": "code",
      "execution_count": null,
      "metadata": {
        "colab": {
          "base_uri": "https://localhost:8080/"
        },
        "id": "2Pzw3iWHtrPu",
        "outputId": "30c8f25b-d394-4c52-a4fc-2ab00f797cc8"
      },
      "outputs": [
        {
          "output_type": "stream",
          "name": "stdout",
          "text": [
            "Processed Dataset:\n",
            "   movieId  title    year  (no genres listed)  Action  Adventure  Animation  \\\n",
            "0        0   8634  1995.0                   0       0          1          1   \n",
            "1        1   4513  1995.0                   0       0          1          0   \n",
            "2        2   3560  1995.0                   0       0          0          0   \n",
            "3        3   8978  1995.0                   0       0          0          0   \n",
            "4        4   2893  1995.0                   0       0          0          0   \n",
            "\n",
            "   Children  Comedy  Crime  ...  Musical  Mystery  Romance  Sci-Fi  Thriller  \\\n",
            "0         1       1      0  ...        0        0        0       0         0   \n",
            "1         1       0      0  ...        0        0        0       0         0   \n",
            "2         0       1      0  ...        0        0        1       0         0   \n",
            "3         0       1      0  ...        0        0        1       0         0   \n",
            "4         0       1      0  ...        0        0        0       0         0   \n",
            "\n",
            "   War  Western  year_scaled  feature_1  feature_2  \n",
            "0    0        0     0.040569   0.067688   1.071012  \n",
            "1    0        0     0.040569   0.037917   0.294081  \n",
            "2    0        0     0.040569   0.046057   0.825934  \n",
            "3    0        0     0.040569   0.048921   0.221159  \n",
            "4    0        0     0.040569   0.045596   0.755971  \n",
            "\n",
            "[5 rows x 26 columns]\n",
            "\n",
            "Training and Testing Split:\n",
            "X_train: (7793, 23), X_test: (1949, 23), y_train: (7793,), y_test: (1949,)\n"
          ]
        }
      ],
      "source": [
        "# Import necessary libraries\n",
        "import pandas as pd\n",
        "import numpy as np\n",
        "from sklearn.preprocessing import StandardScaler, LabelEncoder\n",
        "from sklearn.decomposition import PCA\n",
        "from sklearn.model_selection import train_test_split\n",
        "\n",
        "# Load the dataset\n",
        "df = pd.read_csv(\"movies.csv\")\n",
        "\n",
        "# Step 1: Data Cleaning and Feature Engineering\n",
        "\n",
        "# Extract year from the title\n",
        "df['year'] = df['title'].str.extract(r'\\((\\d{4})\\)').astype(float)\n",
        "df['title'] = df['title'].str.replace(r'\\(\\d{4}\\)', '', regex=True).str.strip()\n",
        "\n",
        "# One-hot encode the 'genres' column (split by '|')\n",
        "genres_split = df['genres'].str.get_dummies(sep='|')\n",
        "df = pd.concat([df, genres_split], axis=1)\n",
        "df.drop(columns=['genres'], inplace=True)\n",
        "\n",
        "# Encode movie IDs and titles\n",
        "label_encoder = LabelEncoder()\n",
        "df['movieId'] = label_encoder.fit_transform(df['movieId'])\n",
        "df['title'] = label_encoder.fit_transform(df['title'])\n",
        "\n",
        "# Step 2: Feature Scaling\n",
        "scaler = StandardScaler()\n",
        "if 'year' in df.columns:\n",
        "    df['year_scaled'] = scaler.fit_transform(df[['year']].fillna(0))  # Ensure no NaN\n",
        "\n",
        "# Step 3: Dimensionality Reduction using PCA\n",
        "# Drop non-relevant columns for PCA and ensure no NaN values\n",
        "pca_data = df.drop(columns=['title', 'movieId', 'year']).fillna(0)\n",
        "pca = PCA(n_components=2)\n",
        "reduced_features = pca.fit_transform(pca_data)\n",
        "df_pca = pd.DataFrame(reduced_features, columns=['feature_1', 'feature_2'])\n",
        "df = pd.concat([df, df_pca], axis=1)\n",
        "\n",
        "# Step 4: Data Splitting for Training and Testing\n",
        "X = df.drop(columns=['movieId', 'title', 'year'])\n",
        "y = df['year_scaled']\n",
        "X_train, X_test, y_train, y_test = train_test_split(X, y, test_size=0.2, random_state=42)\n",
        "\n",
        "# Final Dataset Preview\n",
        "print(\"Processed Dataset:\")\n",
        "print(df.head())\n",
        "\n",
        "print(\"\\nTraining and Testing Split:\")\n",
        "print(f\"X_train: {X_train.shape}, X_test: {X_test.shape}, y_train: {y_train.shape}, y_test: {y_test.shape}\")"
      ]
    }
  ]
}